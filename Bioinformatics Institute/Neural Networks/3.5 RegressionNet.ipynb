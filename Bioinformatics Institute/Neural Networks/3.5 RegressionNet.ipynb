{
 "cells": [
  {
   "attachments": {},
   "cell_type": "markdown",
   "metadata": {},
   "source": [
    "### Neural net for regression\n",
    "\n",
    "Task:\n",
    "- Target function $y = 2^x sin(2^{-x})$\n",
    "- Use MAE metric for the validation. Get MAE score $< 0.03$"
   ]
  },
  {
   "cell_type": "code",
   "execution_count": 10,
   "metadata": {},
   "outputs": [],
   "source": [
    "import torch\n",
    "import random\n",
    "\n",
    "def target_function(x):\n",
    "    return 2**x * torch.sin(2**-x)\n",
    "\n",
    "# ------Dataset preparation start--------:\n",
    "x_train =  torch.linspace(-10, 5, 100)\n",
    "y_train = target_function(x_train)\n",
    "noise = torch.randn(y_train.shape) / 20.\n",
    "y_train = y_train + noise\n",
    "x_train.unsqueeze_(1)\n",
    "y_train.unsqueeze_(1)\n",
    "\n",
    "x_validation = torch.linspace(-10, 5, 100)\n",
    "y_validation = target_function(x_validation)\n",
    "x_validation.unsqueeze_(1);\n",
    "y_validation.unsqueeze_(1);\n",
    "# ------Dataset preparation end--------:"
   ]
  },
  {
   "cell_type": "code",
   "execution_count": 11,
   "metadata": {},
   "outputs": [],
   "source": [
    "class RegressionNet(torch.nn.Module):\n",
    "    def __init__(self, n_hidden_neurons=20):\n",
    "        super(RegressionNet, self).__init__()\n",
    "        self.fc1 = torch.nn.Linear(1, n_hidden_neurons, bias=True)\n",
    "        self.act1 = torch.nn.ReLU()\n",
    "        self.fc2 = torch.nn.Linear(n_hidden_neurons, n_hidden_neurons*2, bias=True)\n",
    "        self.act2 = torch.nn.ReLU()\n",
    "        self.fc3 = torch.nn.Linear(n_hidden_neurons*2, 1, bias=True)\n",
    "\n",
    "    def forward(self, x):\n",
    "        x = self.fc1(x)\n",
    "        x = self.act1(x)\n",
    "        x = self.fc2(x)\n",
    "        x = self.act2(x)\n",
    "        x = self.fc3(x)\n",
    "        return x"
   ]
  },
  {
   "cell_type": "code",
   "execution_count": 27,
   "metadata": {},
   "outputs": [],
   "source": [
    "net = RegressionNet()\n",
    "torch.manual_seed(42)\n",
    "\n",
    "epochs = 250\n",
    "lr_ = 0.01\n",
    "optimizer = torch.optim.Adam(net.parameters(), lr=lr_)\n",
    "\n",
    "def loss(pred, target):\n",
    "    abs_ = abs(pred - target)\n",
    "    return abs_.mean()\n",
    "    # your code here\n",
    "\n",
    "for epoch_index in range(epochs):\n",
    "    optimizer.zero_grad()\n",
    "    y_pred = net.forward(x_train)\n",
    "    loss_value = loss(y_pred, y_train)\n",
    "    loss_value.backward()\n",
    "    optimizer.step()"
   ]
  },
  {
   "cell_type": "code",
   "execution_count": 28,
   "metadata": {},
   "outputs": [
    {
     "name": "stdout",
     "output_type": "stream",
     "text": [
      "0.02043880708515644\n"
     ]
    }
   ],
   "source": [
    "def metric(pred, target):\n",
    "    return (pred - target).abs().mean()\n",
    "\n",
    "print(metric(net.forward(x_validation), y_validation).item())"
   ]
  }
 ],
 "metadata": {
  "kernelspec": {
   "display_name": "base",
   "language": "python",
   "name": "python3"
  },
  "language_info": {
   "codemirror_mode": {
    "name": "ipython",
    "version": 3
   },
   "file_extension": ".py",
   "mimetype": "text/x-python",
   "name": "python",
   "nbconvert_exporter": "python",
   "pygments_lexer": "ipython3",
   "version": "3.9.13"
  },
  "orig_nbformat": 4,
  "vscode": {
   "interpreter": {
    "hash": "aaed9f255214391217c6b3ad51a795ae4188168fe90e39e87c85b9767c80efde"
   }
  }
 },
 "nbformat": 4,
 "nbformat_minor": 2
}
